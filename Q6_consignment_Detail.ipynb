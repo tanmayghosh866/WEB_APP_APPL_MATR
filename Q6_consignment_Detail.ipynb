{
 "cells": [
  {
   "attachments": {},
   "cell_type": "markdown",
   "metadata": {},
   "source": [
    "## Consignment Analysis - Problem 6 - Applied Materials by Tanmay Ghosh"
   ]
  },
  {
   "cell_type": "code",
   "execution_count": 2,
   "metadata": {},
   "outputs": [],
   "source": [
    "#Importing necessary libraries\n",
    "import pandas as pd\n",
    "import ipywidgets as widgets"
   ]
  },
  {
   "cell_type": "code",
   "execution_count": 5,
   "metadata": {},
   "outputs": [
    {
     "data": {
      "text/html": [
       "<div>\n",
       "<style scoped>\n",
       "    .dataframe tbody tr th:only-of-type {\n",
       "        vertical-align: middle;\n",
       "    }\n",
       "\n",
       "    .dataframe tbody tr th {\n",
       "        vertical-align: top;\n",
       "    }\n",
       "\n",
       "    .dataframe thead th {\n",
       "        text-align: right;\n",
       "    }\n",
       "</style>\n",
       "<table border=\"1\" class=\"dataframe\">\n",
       "  <thead>\n",
       "    <tr style=\"text-align: right;\">\n",
       "      <th></th>\n",
       "      <th>row id</th>\n",
       "      <th>Consignment_ID</th>\n",
       "      <th>Packet_ID</th>\n",
       "      <th>Part_ID</th>\n",
       "      <th>Total_Parts</th>\n",
       "      <th>total_weight</th>\n",
       "      <th>pkt_cost</th>\n",
       "      <th>ship_date</th>\n",
       "    </tr>\n",
       "  </thead>\n",
       "  <tbody>\n",
       "    <tr>\n",
       "      <th>0</th>\n",
       "      <td>1</td>\n",
       "      <td>CN_19520_1</td>\n",
       "      <td>7703851</td>\n",
       "      <td>6746</td>\n",
       "      <td>36</td>\n",
       "      <td>3.214790</td>\n",
       "      <td>510.953262</td>\n",
       "      <td>6/12/2023 14:25</td>\n",
       "    </tr>\n",
       "    <tr>\n",
       "      <th>1</th>\n",
       "      <td>2</td>\n",
       "      <td>CN_19520_1</td>\n",
       "      <td>7703851</td>\n",
       "      <td>62555</td>\n",
       "      <td>37</td>\n",
       "      <td>6.764561</td>\n",
       "      <td>510.953262</td>\n",
       "      <td>6/11/2023 15:33</td>\n",
       "    </tr>\n",
       "    <tr>\n",
       "      <th>2</th>\n",
       "      <td>3</td>\n",
       "      <td>CN_19520_1</td>\n",
       "      <td>7703851</td>\n",
       "      <td>46435</td>\n",
       "      <td>17</td>\n",
       "      <td>6.347278</td>\n",
       "      <td>510.953262</td>\n",
       "      <td>6/12/2023 8:29</td>\n",
       "    </tr>\n",
       "    <tr>\n",
       "      <th>3</th>\n",
       "      <td>4</td>\n",
       "      <td>CN_19520_1</td>\n",
       "      <td>7703851</td>\n",
       "      <td>67150</td>\n",
       "      <td>26</td>\n",
       "      <td>7.826136</td>\n",
       "      <td>510.953262</td>\n",
       "      <td>6/12/2023 10:14</td>\n",
       "    </tr>\n",
       "    <tr>\n",
       "      <th>4</th>\n",
       "      <td>5</td>\n",
       "      <td>CN_19520_1</td>\n",
       "      <td>7703851</td>\n",
       "      <td>15180</td>\n",
       "      <td>24</td>\n",
       "      <td>4.730917</td>\n",
       "      <td>510.953262</td>\n",
       "      <td>6/12/2023 5:29</td>\n",
       "    </tr>\n",
       "  </tbody>\n",
       "</table>\n",
       "</div>"
      ],
      "text/plain": [
       "   row id Consignment_ID  Packet_ID  Part_ID  Total_Parts  total_weight  \\\n",
       "0       1     CN_19520_1    7703851     6746           36      3.214790   \n",
       "1       2     CN_19520_1    7703851    62555           37      6.764561   \n",
       "2       3     CN_19520_1    7703851    46435           17      6.347278   \n",
       "3       4     CN_19520_1    7703851    67150           26      7.826136   \n",
       "4       5     CN_19520_1    7703851    15180           24      4.730917   \n",
       "\n",
       "     pkt_cost        ship_date  \n",
       "0  510.953262  6/12/2023 14:25  \n",
       "1  510.953262  6/11/2023 15:33  \n",
       "2  510.953262   6/12/2023 8:29  \n",
       "3  510.953262  6/12/2023 10:14  \n",
       "4  510.953262   6/12/2023 5:29  "
      ]
     },
     "execution_count": 5,
     "metadata": {},
     "output_type": "execute_result"
    }
   ],
   "source": [
    "#Pulling in dataset andd changing some column names for feasibility\n",
    "consignment = pd.read_csv('consignment details.csv')\n",
    "consignment.rename(columns={'total part_Weight (in kgs)': 'total_weight',\n",
    "                            'Packet_Cost (in INR)': 'pkt_cost',\n",
    "                            'Shipment_DateTime': 'ship_date'}, inplace=True)\n",
    "consignment.head()"
   ]
  },
  {
   "attachments": {},
   "cell_type": "markdown",
   "metadata": {},
   "source": [
    "## Unique Packets per consignment"
   ]
  },
  {
   "cell_type": "code",
   "execution_count": 8,
   "metadata": {},
   "outputs": [
    {
     "data": {
      "text/html": [
       "<div>\n",
       "<style scoped>\n",
       "    .dataframe tbody tr th:only-of-type {\n",
       "        vertical-align: middle;\n",
       "    }\n",
       "\n",
       "    .dataframe tbody tr th {\n",
       "        vertical-align: top;\n",
       "    }\n",
       "\n",
       "    .dataframe thead th {\n",
       "        text-align: right;\n",
       "    }\n",
       "</style>\n",
       "<table border=\"1\" class=\"dataframe\">\n",
       "  <thead>\n",
       "    <tr style=\"text-align: right;\">\n",
       "      <th></th>\n",
       "      <th>Consignment_ID</th>\n",
       "      <th>Packet_ID</th>\n",
       "      <th>Count of unique packets</th>\n",
       "    </tr>\n",
       "  </thead>\n",
       "  <tbody>\n",
       "    <tr>\n",
       "      <th>0</th>\n",
       "      <td>CN_19431_1</td>\n",
       "      <td>[4836466, 4709476, 2912863, 5922982]</td>\n",
       "      <td>4</td>\n",
       "    </tr>\n",
       "    <tr>\n",
       "      <th>1</th>\n",
       "      <td>CN_19431_10</td>\n",
       "      <td>[4358469, 4557932]</td>\n",
       "      <td>2</td>\n",
       "    </tr>\n",
       "    <tr>\n",
       "      <th>2</th>\n",
       "      <td>CN_19431_11</td>\n",
       "      <td>[6626650, 2629233]</td>\n",
       "      <td>2</td>\n",
       "    </tr>\n",
       "    <tr>\n",
       "      <th>3</th>\n",
       "      <td>CN_19431_2</td>\n",
       "      <td>[4333161]</td>\n",
       "      <td>1</td>\n",
       "    </tr>\n",
       "    <tr>\n",
       "      <th>4</th>\n",
       "      <td>CN_19431_3</td>\n",
       "      <td>[4388214, 5595636, 7140837, 5140527, 414374]</td>\n",
       "      <td>5</td>\n",
       "    </tr>\n",
       "  </tbody>\n",
       "</table>\n",
       "</div>"
      ],
      "text/plain": [
       "  Consignment_ID                                     Packet_ID  \\\n",
       "0     CN_19431_1          [4836466, 4709476, 2912863, 5922982]   \n",
       "1    CN_19431_10                            [4358469, 4557932]   \n",
       "2    CN_19431_11                            [6626650, 2629233]   \n",
       "3     CN_19431_2                                     [4333161]   \n",
       "4     CN_19431_3  [4388214, 5595636, 7140837, 5140527, 414374]   \n",
       "\n",
       "   Count of unique packets  \n",
       "0                        4  \n",
       "1                        2  \n",
       "2                        2  \n",
       "3                        1  \n",
       "4                        5  "
      ]
     },
     "execution_count": 8,
     "metadata": {},
     "output_type": "execute_result"
    }
   ],
   "source": [
    "#Q1 Answer\n",
    "con_unique = pd.DataFrame(consignment.groupby('Consignment_ID')['Packet_ID'].unique()).reset_index()\n",
    "con_unique['Count of unique packets'] = con_unique['Packet_ID'].apply(len)\n",
    "con_unique.head()"
   ]
  },
  {
   "attachments": {},
   "cell_type": "markdown",
   "metadata": {},
   "source": [
    "## Unique parts per packet per consignment"
   ]
  },
  {
   "cell_type": "code",
   "execution_count": 9,
   "metadata": {},
   "outputs": [
    {
     "data": {
      "text/html": [
       "<div>\n",
       "<style scoped>\n",
       "    .dataframe tbody tr th:only-of-type {\n",
       "        vertical-align: middle;\n",
       "    }\n",
       "\n",
       "    .dataframe tbody tr th {\n",
       "        vertical-align: top;\n",
       "    }\n",
       "\n",
       "    .dataframe thead th {\n",
       "        text-align: right;\n",
       "    }\n",
       "</style>\n",
       "<table border=\"1\" class=\"dataframe\">\n",
       "  <thead>\n",
       "    <tr style=\"text-align: right;\">\n",
       "      <th></th>\n",
       "      <th>Consignment_ID</th>\n",
       "      <th>Packet_ID</th>\n",
       "      <th>Count_unique_parts_per_packet</th>\n",
       "    </tr>\n",
       "  </thead>\n",
       "  <tbody>\n",
       "    <tr>\n",
       "      <th>0</th>\n",
       "      <td>CN_19431_1</td>\n",
       "      <td>2912863</td>\n",
       "      <td>6</td>\n",
       "    </tr>\n",
       "    <tr>\n",
       "      <th>1</th>\n",
       "      <td>CN_19431_1</td>\n",
       "      <td>4709476</td>\n",
       "      <td>8</td>\n",
       "    </tr>\n",
       "    <tr>\n",
       "      <th>2</th>\n",
       "      <td>CN_19431_1</td>\n",
       "      <td>4836466</td>\n",
       "      <td>2</td>\n",
       "    </tr>\n",
       "    <tr>\n",
       "      <th>3</th>\n",
       "      <td>CN_19431_1</td>\n",
       "      <td>5922982</td>\n",
       "      <td>10</td>\n",
       "    </tr>\n",
       "    <tr>\n",
       "      <th>4</th>\n",
       "      <td>CN_19431_10</td>\n",
       "      <td>4358469</td>\n",
       "      <td>7</td>\n",
       "    </tr>\n",
       "  </tbody>\n",
       "</table>\n",
       "</div>"
      ],
      "text/plain": [
       "  Consignment_ID  Packet_ID  Count_unique_parts_per_packet\n",
       "0     CN_19431_1    2912863                              6\n",
       "1     CN_19431_1    4709476                              8\n",
       "2     CN_19431_1    4836466                              2\n",
       "3     CN_19431_1    5922982                             10\n",
       "4    CN_19431_10    4358469                              7"
      ]
     },
     "execution_count": 9,
     "metadata": {},
     "output_type": "execute_result"
    }
   ],
   "source": [
    "#Q2 Answer\n",
    "unique_parts_per_packet_per_consignment = consignment.groupby(['Consignment_ID', \n",
    "'Packet_ID']).agg(Count_unique_parts_per_packet=('Part_ID', \n",
    "'nunique')).reset_index()\n",
    "unique_parts_per_packet_per_consignment.head()\n"
   ]
  },
  {
   "attachments": {},
   "cell_type": "markdown",
   "metadata": {},
   "source": [
    "## Total weight per consignment"
   ]
  },
  {
   "cell_type": "code",
   "execution_count": 10,
   "metadata": {},
   "outputs": [
    {
     "data": {
      "text/html": [
       "<div>\n",
       "<style scoped>\n",
       "    .dataframe tbody tr th:only-of-type {\n",
       "        vertical-align: middle;\n",
       "    }\n",
       "\n",
       "    .dataframe tbody tr th {\n",
       "        vertical-align: top;\n",
       "    }\n",
       "\n",
       "    .dataframe thead th {\n",
       "        text-align: right;\n",
       "    }\n",
       "</style>\n",
       "<table border=\"1\" class=\"dataframe\">\n",
       "  <thead>\n",
       "    <tr style=\"text-align: right;\">\n",
       "      <th></th>\n",
       "      <th>Consignment_ID</th>\n",
       "      <th>total_weight</th>\n",
       "    </tr>\n",
       "  </thead>\n",
       "  <tbody>\n",
       "    <tr>\n",
       "      <th>0</th>\n",
       "      <td>CN_19431_1 KG</td>\n",
       "      <td>134.82 KG</td>\n",
       "    </tr>\n",
       "    <tr>\n",
       "      <th>1</th>\n",
       "      <td>CN_19431_10 KG</td>\n",
       "      <td>64.56 KG</td>\n",
       "    </tr>\n",
       "    <tr>\n",
       "      <th>2</th>\n",
       "      <td>CN_19431_11 KG</td>\n",
       "      <td>68.1 KG</td>\n",
       "    </tr>\n",
       "    <tr>\n",
       "      <th>3</th>\n",
       "      <td>CN_19431_2 KG</td>\n",
       "      <td>51.16 KG</td>\n",
       "    </tr>\n",
       "    <tr>\n",
       "      <th>4</th>\n",
       "      <td>CN_19431_3 KG</td>\n",
       "      <td>92.23 KG</td>\n",
       "    </tr>\n",
       "  </tbody>\n",
       "</table>\n",
       "</div>"
      ],
      "text/plain": [
       "   Consignment_ID total_weight\n",
       "0   CN_19431_1 KG    134.82 KG\n",
       "1  CN_19431_10 KG     64.56 KG\n",
       "2  CN_19431_11 KG      68.1 KG\n",
       "3   CN_19431_2 KG     51.16 KG\n",
       "4   CN_19431_3 KG     92.23 KG"
      ]
     },
     "execution_count": 10,
     "metadata": {},
     "output_type": "execute_result"
    }
   ],
   "source": [
    "# Q3 answer\n",
    "total_weight_per_consignment = consignment.groupby('Consignment_ID')['total_weight'].sum().reset_index().round(2).astype(str) + ' KG'\n",
    "total_weight_per_consignment.head()"
   ]
  },
  {
   "attachments": {},
   "cell_type": "markdown",
   "metadata": {},
   "source": [
    "## Cost/part within each consignment"
   ]
  },
  {
   "cell_type": "code",
   "execution_count": 11,
   "metadata": {},
   "outputs": [
    {
     "data": {
      "text/html": [
       "<div>\n",
       "<style scoped>\n",
       "    .dataframe tbody tr th:only-of-type {\n",
       "        vertical-align: middle;\n",
       "    }\n",
       "\n",
       "    .dataframe tbody tr th {\n",
       "        vertical-align: top;\n",
       "    }\n",
       "\n",
       "    .dataframe thead th {\n",
       "        text-align: right;\n",
       "    }\n",
       "</style>\n",
       "<table border=\"1\" class=\"dataframe\">\n",
       "  <thead>\n",
       "    <tr style=\"text-align: right;\">\n",
       "      <th></th>\n",
       "      <th>Consignment_ID</th>\n",
       "      <th>Packet_ID</th>\n",
       "      <th>Cost_per_part</th>\n",
       "    </tr>\n",
       "  </thead>\n",
       "  <tbody>\n",
       "    <tr>\n",
       "      <th>0</th>\n",
       "      <td>CN_19431_1</td>\n",
       "      <td>2912863</td>\n",
       "      <td>344.82 INR</td>\n",
       "    </tr>\n",
       "    <tr>\n",
       "      <th>1</th>\n",
       "      <td>CN_19431_1</td>\n",
       "      <td>4709476</td>\n",
       "      <td>323.25 INR</td>\n",
       "    </tr>\n",
       "    <tr>\n",
       "      <th>2</th>\n",
       "      <td>CN_19431_1</td>\n",
       "      <td>4836466</td>\n",
       "      <td>287.07 INR</td>\n",
       "    </tr>\n",
       "    <tr>\n",
       "      <th>3</th>\n",
       "      <td>CN_19431_1</td>\n",
       "      <td>5922982</td>\n",
       "      <td>809.83 INR</td>\n",
       "    </tr>\n",
       "    <tr>\n",
       "      <th>4</th>\n",
       "      <td>CN_19431_10</td>\n",
       "      <td>4358469</td>\n",
       "      <td>971.61 INR</td>\n",
       "    </tr>\n",
       "  </tbody>\n",
       "</table>\n",
       "</div>"
      ],
      "text/plain": [
       "  Consignment_ID  Packet_ID Cost_per_part\n",
       "0     CN_19431_1    2912863    344.82 INR\n",
       "1     CN_19431_1    4709476    323.25 INR\n",
       "2     CN_19431_1    4836466    287.07 INR\n",
       "3     CN_19431_1    5922982    809.83 INR\n",
       "4    CN_19431_10    4358469    971.61 INR"
      ]
     },
     "execution_count": 11,
     "metadata": {},
     "output_type": "execute_result"
    }
   ],
   "source": [
    "#Q4 answer\n",
    "cost_per_part_within_consignment = consignment.groupby(['Consignment_ID', \n",
    " 'Packet_ID']).apply(lambda x: x['pkt_cost'].sum() / x['Part_ID'].nunique()).reset_index(name='Cost_per_part')\n",
    "cost_per_part_within_consignment['Cost_per_part'] = cost_per_part_within_consignment['Cost_per_part'].round(2).astype(str) + ' INR'\n",
    "cost_per_part_within_consignment.head()"
   ]
  },
  {
   "attachments": {},
   "cell_type": "markdown",
   "metadata": {},
   "source": [
    "## Total shipments per day and pivot and plot analysis"
   ]
  },
  {
   "cell_type": "code",
   "execution_count": 12,
   "metadata": {},
   "outputs": [
    {
     "name": "stdout",
     "output_type": "stream",
     "text": [
      "    ship_date  Total_shipments\n",
      "0  2023-06-11             1327\n",
      "1  2023-06-12             1355\n"
     ]
    },
    {
     "data": {
      "text/plain": [
       "<AxesSubplot:xlabel='ship_date'>"
      ]
     },
     "execution_count": 12,
     "metadata": {},
     "output_type": "execute_result"
    },
    {
     "data": {
      "image/png": "[encoded data removed]",
      "text/plain": [
       "<Figure size 432x288 with 1 Axes>"
      ]
     },
     "metadata": {
      "needs_background": "light"
     },
     "output_type": "display_data"
    }
   ],
   "source": [
    "# Q5 Answer\n",
    "consignment['ship_date'] = pd.to_datetime(consignment['ship_date']).dt.date\n",
    "total_shipments_per_day = consignment.groupby('ship_date').apply(lambda x: x['Consignment_ID'].nunique()).reset_index(name='Total_shipments')\n",
    "print(total_shipments_per_day.head())\n",
    "total_shipments_per_day.plot(kind='bar', x='ship_date', y='Total_shipments')\n"
   ]
  },
  {
   "cell_type": "code",
   "execution_count": 17,
   "metadata": {},
   "outputs": [
    {
     "data": {
      "text/html": [
       "<div>\n",
       "<style scoped>\n",
       "    .dataframe tbody tr th:only-of-type {\n",
       "        vertical-align: middle;\n",
       "    }\n",
       "\n",
       "    .dataframe tbody tr th {\n",
       "        vertical-align: top;\n",
       "    }\n",
       "\n",
       "    .dataframe thead th {\n",
       "        text-align: right;\n",
       "    }\n",
       "</style>\n",
       "<table border=\"1\" class=\"dataframe\">\n",
       "  <thead>\n",
       "    <tr style=\"text-align: right;\">\n",
       "      <th>ship_date</th>\n",
       "      <th>Consignment_ID</th>\n",
       "      <th>2023-06-11</th>\n",
       "      <th>2023-06-12</th>\n",
       "    </tr>\n",
       "  </thead>\n",
       "  <tbody>\n",
       "    <tr>\n",
       "      <th>0</th>\n",
       "      <td>CN_19431_1</td>\n",
       "      <td>5349.091251</td>\n",
       "      <td>7978.202156</td>\n",
       "    </tr>\n",
       "    <tr>\n",
       "      <th>1</th>\n",
       "      <td>CN_19431_10</td>\n",
       "      <td>2582.168811</td>\n",
       "      <td>8052.815037</td>\n",
       "    </tr>\n",
       "    <tr>\n",
       "      <th>2</th>\n",
       "      <td>CN_19431_11</td>\n",
       "      <td>3161.760516</td>\n",
       "      <td>5719.058721</td>\n",
       "    </tr>\n",
       "    <tr>\n",
       "      <th>3</th>\n",
       "      <td>CN_19431_2</td>\n",
       "      <td>1555.457189</td>\n",
       "      <td>6221.828754</td>\n",
       "    </tr>\n",
       "    <tr>\n",
       "      <th>4</th>\n",
       "      <td>CN_19431_3</td>\n",
       "      <td>2755.483656</td>\n",
       "      <td>6956.437342</td>\n",
       "    </tr>\n",
       "    <tr>\n",
       "      <th>...</th>\n",
       "      <td>...</td>\n",
       "      <td>...</td>\n",
       "      <td>...</td>\n",
       "    </tr>\n",
       "    <tr>\n",
       "      <th>1356</th>\n",
       "      <td>CN_19520_5</td>\n",
       "      <td>8392.733058</td>\n",
       "      <td>15941.467960</td>\n",
       "    </tr>\n",
       "    <tr>\n",
       "      <th>1357</th>\n",
       "      <td>CN_19520_6</td>\n",
       "      <td>3452.195299</td>\n",
       "      <td>6927.930812</td>\n",
       "    </tr>\n",
       "    <tr>\n",
       "      <th>1358</th>\n",
       "      <td>CN_19520_7</td>\n",
       "      <td>6723.194326</td>\n",
       "      <td>7061.572714</td>\n",
       "    </tr>\n",
       "    <tr>\n",
       "      <th>1359</th>\n",
       "      <td>CN_19520_8</td>\n",
       "      <td>1120.805825</td>\n",
       "      <td>2241.611650</td>\n",
       "    </tr>\n",
       "    <tr>\n",
       "      <th>1360</th>\n",
       "      <td>CN_19520_9</td>\n",
       "      <td>4448.123845</td>\n",
       "      <td>12157.231608</td>\n",
       "    </tr>\n",
       "  </tbody>\n",
       "</table>\n",
       "<p>1361 rows × 3 columns</p>\n",
       "</div>"
      ],
      "text/plain": [
       "ship_date Consignment_ID   2023-06-11    2023-06-12\n",
       "0             CN_19431_1  5349.091251   7978.202156\n",
       "1            CN_19431_10  2582.168811   8052.815037\n",
       "2            CN_19431_11  3161.760516   5719.058721\n",
       "3             CN_19431_2  1555.457189   6221.828754\n",
       "4             CN_19431_3  2755.483656   6956.437342\n",
       "...                  ...          ...           ...\n",
       "1356          CN_19520_5  8392.733058  15941.467960\n",
       "1357          CN_19520_6  3452.195299   6927.930812\n",
       "1358          CN_19520_7  6723.194326   7061.572714\n",
       "1359          CN_19520_8  1120.805825   2241.611650\n",
       "1360          CN_19520_9  4448.123845  12157.231608\n",
       "\n",
       "[1361 rows x 3 columns]"
      ]
     },
     "metadata": {},
     "output_type": "display_data"
    }
   ],
   "source": [
    "pivot_table = pd.pivot_table(consignment, \n",
    "                             values='pkt_cost', \n",
    "                             index='Consignment_ID', \n",
    "                             columns='ship_date', \n",
    "                             aggfunc='sum').reset_index()\n",
    "display(pivot_table)"
   ]
  }
 ],
 "metadata": {
  "kernelspec": {
   "display_name": "base",
   "language": "python",
   "name": "python3"
  },
  "language_info": {
   "codemirror_mode": {
    "name": "ipython",
    "version": 3
   },
   "file_extension": ".py",
   "mimetype": "text/x-python",
   "name": "python",
   "nbconvert_exporter": "python",
   "pygments_lexer": "ipython3",
   "version": "3.8.5"
  },
  "orig_nbformat": 4
 },
 "nbformat": 4,
 "nbformat_minor": 2
}
